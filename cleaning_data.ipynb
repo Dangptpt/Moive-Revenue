{
 "cells": [
  {
   "cell_type": "code",
   "execution_count": 1,
   "metadata": {},
   "outputs": [],
   "source": [
    "import pandas as pd\n",
    "import numpy as np\n",
    "import matplotlib.pyplot as plt\n",
    "import ast"
   ]
  },
  {
   "cell_type": "markdown",
   "metadata": {},
   "source": [
    "### Read and merge imdb and the reviewer data"
   ]
  },
  {
   "cell_type": "code",
   "execution_count": 2,
   "metadata": {},
   "outputs": [],
   "source": [
    "df = pd.read_csv('data/movie_details5000.csv')\n",
    "df['Title'] = df['Title'].str[:-7]\n",
    "df.head()\n",
    "df.to_csv('data/the_reviewer.csv')"
   ]
  },
  {
   "cell_type": "code",
   "execution_count": 3,
   "metadata": {},
   "outputs": [
    {
     "data": {
      "text/html": [
       "<div>\n",
       "<style scoped>\n",
       "    .dataframe tbody tr th:only-of-type {\n",
       "        vertical-align: middle;\n",
       "    }\n",
       "\n",
       "    .dataframe tbody tr th {\n",
       "        vertical-align: top;\n",
       "    }\n",
       "\n",
       "    .dataframe thead th {\n",
       "        text-align: right;\n",
       "    }\n",
       "</style>\n",
       "<table border=\"1\" class=\"dataframe\">\n",
       "  <thead>\n",
       "    <tr style=\"text-align: right;\">\n",
       "      <th></th>\n",
       "      <th>Title</th>\n",
       "      <th>Theater counts</th>\n",
       "      <th>Opening Weekend</th>\n",
       "      <th>Budget</th>\n",
       "      <th>Cast</th>\n",
       "      <th>Crew</th>\n",
       "      <th>Studios</th>\n",
       "      <th>Genre</th>\n",
       "      <th>Languages</th>\n",
       "      <th>Countries</th>\n",
       "      <th>Release_Data</th>\n",
       "      <th>Runtime</th>\n",
       "      <th>Gross_worldwide</th>\n",
       "      <th>Rating</th>\n",
       "      <th>ListOfCertificate</th>\n",
       "    </tr>\n",
       "  </thead>\n",
       "  <tbody>\n",
       "    <tr>\n",
       "      <th>0</th>\n",
       "      <td>Avatar</td>\n",
       "      <td>3,452</td>\n",
       "      <td>$77,025,481</td>\n",
       "      <td>$237,000,000</td>\n",
       "      <td>Sam Worthington,Zoe Saldana,Sigourney Weaver,M...</td>\n",
       "      <td>James Cameron</td>\n",
       "      <td>Twentieth Century Fox,Dune Entertainment,Light...</td>\n",
       "      <td>Action,Adventure,Fantasy,Sci-Fi</td>\n",
       "      <td>English,Spanish</td>\n",
       "      <td>United States</td>\n",
       "      <td>2009-12-18</td>\n",
       "      <td>2 hours 42 minutes</td>\n",
       "      <td>$2,847,246,203</td>\n",
       "      <td>7.8</td>\n",
       "      <td>PG-13</td>\n",
       "    </tr>\n",
       "    <tr>\n",
       "      <th>1</th>\n",
       "      <td>Avengers: Endgame</td>\n",
       "      <td>4,662</td>\n",
       "      <td>$357,115,007</td>\n",
       "      <td>$356,000,000</td>\n",
       "      <td>Robert Downey Jr.,Chris Evans,Mark Ruffalo,Chr...</td>\n",
       "      <td>Stan Lee,Joe Russo,Christopher Markus,Stephen ...</td>\n",
       "      <td>Marvel Studios,Walt Disney Pictures</td>\n",
       "      <td>Action,Adventure,Drama,Sci-Fi</td>\n",
       "      <td>English,Japanese,Xhosa,German</td>\n",
       "      <td>United States</td>\n",
       "      <td>2019-04-26</td>\n",
       "      <td>3 hours 1 minute</td>\n",
       "      <td>$2,797,501,328</td>\n",
       "      <td>8.4</td>\n",
       "      <td>PG-13</td>\n",
       "    </tr>\n",
       "    <tr>\n",
       "      <th>2</th>\n",
       "      <td>Titanic</td>\n",
       "      <td>2,674</td>\n",
       "      <td>$28,638,131</td>\n",
       "      <td>$1,805,000</td>\n",
       "      <td>Clifton Webb,Barbara Stanwyck,Robert Wagner,Au...</td>\n",
       "      <td>Richard L. Breen,Jean Negulesco,Walter Reisch,...</td>\n",
       "      <td>Twentieth Century Fox</td>\n",
       "      <td>Drama,History,Romance</td>\n",
       "      <td>English,Basque,French,Spanish</td>\n",
       "      <td>United States</td>\n",
       "      <td>1953-07-13</td>\n",
       "      <td>1 hour 38 minutes</td>\n",
       "      <td>NaN</td>\n",
       "      <td>7.0</td>\n",
       "      <td>NaN</td>\n",
       "    </tr>\n",
       "    <tr>\n",
       "      <th>3</th>\n",
       "      <td>Titanic</td>\n",
       "      <td>2,674</td>\n",
       "      <td>$28,638,131</td>\n",
       "      <td>$200,000,000</td>\n",
       "      <td>Leonardo DiCaprio,Kate Winslet,Billy Zane,Kath...</td>\n",
       "      <td>James Cameron</td>\n",
       "      <td>Twentieth Century Fox,Paramount Pictures,Light...</td>\n",
       "      <td>Drama,Romance</td>\n",
       "      <td>English,Swedish,Italian,French</td>\n",
       "      <td>United States,Mexico,Australia</td>\n",
       "      <td>1997-12-18</td>\n",
       "      <td>3 hours 14 minutes</td>\n",
       "      <td>$2,201,647,264</td>\n",
       "      <td>7.8</td>\n",
       "      <td>PG-13</td>\n",
       "    </tr>\n",
       "    <tr>\n",
       "      <th>4</th>\n",
       "      <td>Avengers: Infinity War</td>\n",
       "      <td>4,474</td>\n",
       "      <td>$257,698,183</td>\n",
       "      <td>$321,000,000</td>\n",
       "      <td>Robert Downey Jr.,Chris Hemsworth,Mark Ruffalo...</td>\n",
       "      <td>Stan Lee,Joe Russo,Christopher Markus,Stephen ...</td>\n",
       "      <td>Marvel Studios,Jason Roberts Productions,South...</td>\n",
       "      <td>Action,Adventure,Sci-Fi</td>\n",
       "      <td>English</td>\n",
       "      <td>United States</td>\n",
       "      <td>2018-04-25</td>\n",
       "      <td>2 hours 29 minutes</td>\n",
       "      <td>$2,048,359,754</td>\n",
       "      <td>8.4</td>\n",
       "      <td>PG-13</td>\n",
       "    </tr>\n",
       "  </tbody>\n",
       "</table>\n",
       "</div>"
      ],
      "text/plain": [
       "                    Title Theater counts Opening Weekend        Budget  \\\n",
       "0                  Avatar          3,452     $77,025,481  $237,000,000   \n",
       "1       Avengers: Endgame          4,662    $357,115,007  $356,000,000   \n",
       "2                 Titanic          2,674     $28,638,131    $1,805,000   \n",
       "3                 Titanic          2,674     $28,638,131  $200,000,000   \n",
       "4  Avengers: Infinity War          4,474    $257,698,183  $321,000,000   \n",
       "\n",
       "                                                Cast  \\\n",
       "0  Sam Worthington,Zoe Saldana,Sigourney Weaver,M...   \n",
       "1  Robert Downey Jr.,Chris Evans,Mark Ruffalo,Chr...   \n",
       "2  Clifton Webb,Barbara Stanwyck,Robert Wagner,Au...   \n",
       "3  Leonardo DiCaprio,Kate Winslet,Billy Zane,Kath...   \n",
       "4  Robert Downey Jr.,Chris Hemsworth,Mark Ruffalo...   \n",
       "\n",
       "                                                Crew  \\\n",
       "0                                      James Cameron   \n",
       "1  Stan Lee,Joe Russo,Christopher Markus,Stephen ...   \n",
       "2  Richard L. Breen,Jean Negulesco,Walter Reisch,...   \n",
       "3                                      James Cameron   \n",
       "4  Stan Lee,Joe Russo,Christopher Markus,Stephen ...   \n",
       "\n",
       "                                             Studios  \\\n",
       "0  Twentieth Century Fox,Dune Entertainment,Light...   \n",
       "1                Marvel Studios,Walt Disney Pictures   \n",
       "2                              Twentieth Century Fox   \n",
       "3  Twentieth Century Fox,Paramount Pictures,Light...   \n",
       "4  Marvel Studios,Jason Roberts Productions,South...   \n",
       "\n",
       "                             Genre                       Languages  \\\n",
       "0  Action,Adventure,Fantasy,Sci-Fi                 English,Spanish   \n",
       "1    Action,Adventure,Drama,Sci-Fi   English,Japanese,Xhosa,German   \n",
       "2            Drama,History,Romance   English,Basque,French,Spanish   \n",
       "3                    Drama,Romance  English,Swedish,Italian,French   \n",
       "4          Action,Adventure,Sci-Fi                         English   \n",
       "\n",
       "                        Countries Release_Data             Runtime  \\\n",
       "0                   United States   2009-12-18  2 hours 42 minutes   \n",
       "1                   United States   2019-04-26    3 hours 1 minute   \n",
       "2                   United States   1953-07-13   1 hour 38 minutes   \n",
       "3  United States,Mexico,Australia   1997-12-18  3 hours 14 minutes   \n",
       "4                   United States   2018-04-25  2 hours 29 minutes   \n",
       "\n",
       "  Gross_worldwide  Rating ListOfCertificate  \n",
       "0  $2,847,246,203     7.8             PG-13  \n",
       "1  $2,797,501,328     8.4             PG-13  \n",
       "2             NaN     7.0               NaN  \n",
       "3  $2,201,647,264     7.8             PG-13  \n",
       "4  $2,048,359,754     8.4             PG-13  "
      ]
     },
     "execution_count": 3,
     "metadata": {},
     "output_type": "execute_result"
    }
   ],
   "source": [
    "df1 = pd.read_csv('data/the_reviewer.csv')\n",
    "df2 = pd.read_csv('data/imdb.csv')\n",
    "df = pd.merge(df1, df2, on='Title')\n",
    "drop_columns = ['Rating_Count', 'Keywords', 'Release', 'Movie_ID', 'Filming_Location', 'Worldwide Box Office','Unnamed: 0']\n",
    "df.drop(drop_columns, axis=1, inplace=True)\n",
    "df.head(5)"
   ]
  },
  {
   "cell_type": "markdown",
   "metadata": {},
   "source": [
    "### Drop all records which Gross_worldwide is null"
   ]
  },
  {
   "cell_type": "code",
   "execution_count": 4,
   "metadata": {},
   "outputs": [],
   "source": [
    "df.dropna(subset=['Gross_worldwide'], inplace=True)\n",
    "df.reset_index(drop=True, inplace=True)"
   ]
  },
  {
   "cell_type": "markdown",
   "metadata": {},
   "source": [
    "### Parse some attribute"
   ]
  },
  {
   "cell_type": "code",
   "execution_count": 5,
   "metadata": {},
   "outputs": [],
   "source": [
    "def parse_currency(before_parsed):\n",
    "    if '$' in before_parsed:\n",
    "        after_parsed = int(before_parsed.strip('$').replace(',', \"\"))\n",
    "    else:\n",
    "        after_parsed = int(int(before_parsed.strip('€').replace(',', \"\")) * 1.14)\n",
    "    return after_parsed"
   ]
  },
  {
   "cell_type": "code",
   "execution_count": 6,
   "metadata": {},
   "outputs": [],
   "source": [
    "def parse_runtime(time):\n",
    "    time = str(time)\n",
    "    time = time.replace(\" \", \"\")\n",
    "    if \"hour\" in time:\n",
    "        hours = 0\n",
    "        if \"hours\" in time:\n",
    "            hours = int(time[0]) * 60\n",
    "            after_eliminate_hour = time.replace(\"hours\", \"\")\n",
    "        else:\n",
    "            hours = 60\n",
    "            after_eliminate_hour = time.replace(\"hour\", \"\")\n",
    "        minutes = 0\n",
    "        if \"minute\" in after_eliminate_hour:\n",
    "            if \"minutes\" in after_eliminate_hour:\n",
    "                minutes = int(after_eliminate_hour.replace(\"minutes\", \"\")[1:])\n",
    "            else:\n",
    "                minutes = 1\n",
    "        return int(hours) + int(minutes)\n",
    "    else:\n",
    "        return int(time.replace(\"minutes\", \"\"))"
   ]
  },
  {
   "cell_type": "code",
   "execution_count": 7,
   "metadata": {},
   "outputs": [],
   "source": [
    "def parse_multi_value(field_value):\n",
    "    array_value = field_value.split(',')\n",
    "    if '' in array_value:\n",
    "        return []\n",
    "    return array_value"
   ]
  },
  {
   "cell_type": "markdown",
   "metadata": {},
   "source": [
    "### Fill null value"
   ]
  },
  {
   "cell_type": "code",
   "execution_count": 8,
   "metadata": {},
   "outputs": [
    {
     "data": {
      "text/plain": [
       "Title                  0\n",
       "Theater counts       787\n",
       "Opening Weekend      240\n",
       "Budget               308\n",
       "Cast                   1\n",
       "Crew                   1\n",
       "Studios                2\n",
       "Genre                249\n",
       "Languages              2\n",
       "Countries              1\n",
       "Release_Data           0\n",
       "Runtime                0\n",
       "Gross_worldwide        0\n",
       "Rating                 0\n",
       "ListOfCertificate     92\n",
       "dtype: int64"
      ]
     },
     "execution_count": 8,
     "metadata": {},
     "output_type": "execute_result"
    }
   ],
   "source": [
    "df.isnull().sum()"
   ]
  },
  {
   "cell_type": "code",
   "execution_count": 9,
   "metadata": {},
   "outputs": [
    {
     "data": {
      "text/html": [
       "<div>\n",
       "<style scoped>\n",
       "    .dataframe tbody tr th:only-of-type {\n",
       "        vertical-align: middle;\n",
       "    }\n",
       "\n",
       "    .dataframe tbody tr th {\n",
       "        vertical-align: top;\n",
       "    }\n",
       "\n",
       "    .dataframe thead th {\n",
       "        text-align: right;\n",
       "    }\n",
       "</style>\n",
       "<table border=\"1\" class=\"dataframe\">\n",
       "  <thead>\n",
       "    <tr style=\"text-align: right;\">\n",
       "      <th></th>\n",
       "      <th>Title</th>\n",
       "      <th>Theater counts</th>\n",
       "      <th>Opening Weekend</th>\n",
       "      <th>Budget</th>\n",
       "      <th>Cast</th>\n",
       "      <th>Crew</th>\n",
       "      <th>Studios</th>\n",
       "      <th>Genre</th>\n",
       "      <th>Languages</th>\n",
       "      <th>Countries</th>\n",
       "      <th>Release_Data</th>\n",
       "      <th>Runtime</th>\n",
       "      <th>Gross_worldwide</th>\n",
       "      <th>Rating</th>\n",
       "      <th>ListOfCertificate</th>\n",
       "    </tr>\n",
       "  </thead>\n",
       "  <tbody>\n",
       "    <tr>\n",
       "      <th>0</th>\n",
       "      <td>Avatar</td>\n",
       "      <td>3,452</td>\n",
       "      <td>$77,025,481</td>\n",
       "      <td>$237,000,000</td>\n",
       "      <td>Sam Worthington,Zoe Saldana,Sigourney Weaver,M...</td>\n",
       "      <td>James Cameron</td>\n",
       "      <td>Twentieth Century Fox,Dune Entertainment,Light...</td>\n",
       "      <td>Action,Adventure,Fantasy,Sci-Fi</td>\n",
       "      <td>English,Spanish</td>\n",
       "      <td>United States</td>\n",
       "      <td>2009-12-18</td>\n",
       "      <td>2 hours 42 minutes</td>\n",
       "      <td>$2,847,246,203</td>\n",
       "      <td>7.8</td>\n",
       "      <td>PG-13</td>\n",
       "    </tr>\n",
       "    <tr>\n",
       "      <th>1</th>\n",
       "      <td>Avengers: Endgame</td>\n",
       "      <td>4,662</td>\n",
       "      <td>$357,115,007</td>\n",
       "      <td>$356,000,000</td>\n",
       "      <td>Robert Downey Jr.,Chris Evans,Mark Ruffalo,Chr...</td>\n",
       "      <td>Stan Lee,Joe Russo,Christopher Markus,Stephen ...</td>\n",
       "      <td>Marvel Studios,Walt Disney Pictures</td>\n",
       "      <td>Action,Adventure,Drama,Sci-Fi</td>\n",
       "      <td>English,Japanese,Xhosa,German</td>\n",
       "      <td>United States</td>\n",
       "      <td>2019-04-26</td>\n",
       "      <td>3 hours 1 minute</td>\n",
       "      <td>$2,797,501,328</td>\n",
       "      <td>8.4</td>\n",
       "      <td>PG-13</td>\n",
       "    </tr>\n",
       "  </tbody>\n",
       "</table>\n",
       "</div>"
      ],
      "text/plain": [
       "               Title Theater counts Opening Weekend        Budget  \\\n",
       "0             Avatar          3,452     $77,025,481  $237,000,000   \n",
       "1  Avengers: Endgame          4,662    $357,115,007  $356,000,000   \n",
       "\n",
       "                                                Cast  \\\n",
       "0  Sam Worthington,Zoe Saldana,Sigourney Weaver,M...   \n",
       "1  Robert Downey Jr.,Chris Evans,Mark Ruffalo,Chr...   \n",
       "\n",
       "                                                Crew  \\\n",
       "0                                      James Cameron   \n",
       "1  Stan Lee,Joe Russo,Christopher Markus,Stephen ...   \n",
       "\n",
       "                                             Studios  \\\n",
       "0  Twentieth Century Fox,Dune Entertainment,Light...   \n",
       "1                Marvel Studios,Walt Disney Pictures   \n",
       "\n",
       "                             Genre                      Languages  \\\n",
       "0  Action,Adventure,Fantasy,Sci-Fi                English,Spanish   \n",
       "1    Action,Adventure,Drama,Sci-Fi  English,Japanese,Xhosa,German   \n",
       "\n",
       "       Countries Release_Data             Runtime Gross_worldwide  Rating  \\\n",
       "0  United States   2009-12-18  2 hours 42 minutes  $2,847,246,203     7.8   \n",
       "1  United States   2019-04-26    3 hours 1 minute  $2,797,501,328     8.4   \n",
       "\n",
       "  ListOfCertificate  \n",
       "0             PG-13  \n",
       "1             PG-13  "
      ]
     },
     "execution_count": 9,
     "metadata": {},
     "output_type": "execute_result"
    }
   ],
   "source": [
    "df.head(2)"
   ]
  },
  {
   "cell_type": "code",
   "execution_count": 10,
   "metadata": {},
   "outputs": [
    {
     "name": "stderr",
     "output_type": "stream",
     "text": [
      "C:\\Users\\ASUS\\AppData\\Local\\Temp\\ipykernel_17920\\596629826.py:1: FutureWarning: A value is trying to be set on a copy of a DataFrame or Series through chained assignment using an inplace method.\n",
      "The behavior will change in pandas 3.0. This inplace method will never work because the intermediate object on which we are setting values always behaves as a copy.\n",
      "\n",
      "For example, when doing 'df[col].method(value, inplace=True)', try using 'df.method({col: value}, inplace=True)' or df[col] = df[col].method(value) instead, to perform the operation inplace on the original object.\n",
      "\n",
      "\n",
      "  df['Theater counts'].fillna('0', inplace=True)\n",
      "C:\\Users\\ASUS\\AppData\\Local\\Temp\\ipykernel_17920\\596629826.py:2: FutureWarning: A value is trying to be set on a copy of a DataFrame or Series through chained assignment using an inplace method.\n",
      "The behavior will change in pandas 3.0. This inplace method will never work because the intermediate object on which we are setting values always behaves as a copy.\n",
      "\n",
      "For example, when doing 'df[col].method(value, inplace=True)', try using 'df.method({col: value}, inplace=True)' or df[col] = df[col].method(value) instead, to perform the operation inplace on the original object.\n",
      "\n",
      "\n",
      "  df['Opening Weekend'].fillna('$0', inplace=True)\n",
      "C:\\Users\\ASUS\\AppData\\Local\\Temp\\ipykernel_17920\\596629826.py:3: FutureWarning: A value is trying to be set on a copy of a DataFrame or Series through chained assignment using an inplace method.\n",
      "The behavior will change in pandas 3.0. This inplace method will never work because the intermediate object on which we are setting values always behaves as a copy.\n",
      "\n",
      "For example, when doing 'df[col].method(value, inplace=True)', try using 'df.method({col: value}, inplace=True)' or df[col] = df[col].method(value) instead, to perform the operation inplace on the original object.\n",
      "\n",
      "\n",
      "  df['Budget'].fillna('$0', inplace=True)\n",
      "C:\\Users\\ASUS\\AppData\\Local\\Temp\\ipykernel_17920\\596629826.py:4: FutureWarning: A value is trying to be set on a copy of a DataFrame or Series through chained assignment using an inplace method.\n",
      "The behavior will change in pandas 3.0. This inplace method will never work because the intermediate object on which we are setting values always behaves as a copy.\n",
      "\n",
      "For example, when doing 'df[col].method(value, inplace=True)', try using 'df.method({col: value}, inplace=True)' or df[col] = df[col].method(value) instead, to perform the operation inplace on the original object.\n",
      "\n",
      "\n",
      "  df['ListOfCertificate'].fillna('G', inplace=True)\n"
     ]
    }
   ],
   "source": [
    "df['Theater counts'].fillna('0', inplace=True)\n",
    "df['Opening Weekend'].fillna('$0', inplace=True)\n",
    "df['Budget'].fillna('$0', inplace=True)\n",
    "df['ListOfCertificate'].fillna('G', inplace=True)\n",
    "df.fillna('', inplace=True)"
   ]
  },
  {
   "cell_type": "markdown",
   "metadata": {},
   "source": [
    "### Parsing attribute"
   ]
  },
  {
   "cell_type": "code",
   "execution_count": 11,
   "metadata": {},
   "outputs": [],
   "source": [
    "df['Gross_worldwide'] = df['Gross_worldwide'].apply(parse_currency)\n",
    "df['Opening Weekend'] = df['Opening Weekend'].apply(parse_currency)\n",
    "df['Budget'] = df['Budget'].apply(parse_currency)"
   ]
  },
  {
   "cell_type": "code",
   "execution_count": 12,
   "metadata": {},
   "outputs": [],
   "source": [
    "df['Theater counts'] = df['Theater counts'].str.replace(',', '')\n",
    "df['Theater counts'] = pd.to_numeric(df['Theater counts'], errors='coerce')\n",
    "df['Runtime'] = df['Runtime'].apply(parse_runtime)"
   ]
  },
  {
   "cell_type": "code",
   "execution_count": 13,
   "metadata": {},
   "outputs": [],
   "source": [
    "cols = ['Cast', 'Genre', 'Studios', 'ListOfCertificate', 'Languages', 'Countries', 'Crew']\n",
    "for col in cols:\n",
    "    df[col] = df[col].apply(parse_multi_value)"
   ]
  },
  {
   "cell_type": "code",
   "execution_count": 14,
   "metadata": {},
   "outputs": [],
   "source": [
    "df['Release_Data'] = pd.to_datetime(df['Release_Data'], format='%Y-%m-%d')\n",
    "df['Release_Year'] = df['Release_Data'].apply(lambda x: x.year)\n",
    "df['Release_Month'] = df['Release_Data'].apply(lambda x: x.month)\n",
    "df['Release_Day'] = df['Release_Data'].apply(lambda x: x.day)"
   ]
  },
  {
   "cell_type": "markdown",
   "metadata": {},
   "source": [
    "### Replace value 0 to mean"
   ]
  },
  {
   "cell_type": "code",
   "execution_count": 15,
   "metadata": {},
   "outputs": [
    {
     "name": "stdout",
     "output_type": "stream",
     "text": [
      "47309015\n",
      "18260007\n",
      "2381\n"
     ]
    }
   ],
   "source": [
    "mean_bugdet = int(df['Budget'][df['Budget'] != 0].mean())\n",
    "print(mean_bugdet)\n",
    "mean_opening = int(df['Opening Weekend'][df['Opening Weekend'] != 0].mean())\n",
    "print(mean_opening)\n",
    "mean_theater = int(df['Theater counts'][df['Theater counts'] != 0].mean())\n",
    "print(mean_theater)\n",
    "df['Budget'] = df['Budget'].replace(0, mean_bugdet)\n",
    "df['Opening Weekend'] = df['Opening Weekend'].replace(0, mean_opening)\n",
    "df['Theater counts'] = df['Theater counts'].replace(0, mean_theater)\n"
   ]
  },
  {
   "cell_type": "markdown",
   "metadata": {},
   "source": [
    "### Replace old MPAA rating with new one"
   ]
  },
  {
   "cell_type": "code",
   "execution_count": 16,
   "metadata": {},
   "outputs": [
    {
     "name": "stdout",
     "output_type": "stream",
     "text": [
      "['PG-13', 'PG', 'G', 'R', 'NC-17', 'GP']\n"
     ]
    }
   ],
   "source": [
    "old_rating = ['M', 'X', 'GP', 'M/PG']\n",
    "for data in df['ListOfCertificate']:\n",
    "    for cerf in data:\n",
    "        if cerf in old_rating:\n",
    "            data.remove(cerf)\n",
    "            if cerf == 'X':\n",
    "                if 'NC-17' not in data:\n",
    "                    data.append('NC-17')\n",
    "            else:\n",
    "                if 'PG' not in data:\n",
    "                    data.append('PG')\n",
    "\n",
    "cerfs = []\n",
    "for data in df['ListOfCertificate']:\n",
    "    for cerf in data:\n",
    "        if cerf not in cerfs:\n",
    "            cerfs.append(cerf)\n",
    "print(cerfs)"
   ]
  },
  {
   "cell_type": "code",
   "execution_count": 17,
   "metadata": {},
   "outputs": [
    {
     "name": "stdout",
     "output_type": "stream",
     "text": [
      "30967\n"
     ]
    }
   ],
   "source": [
    "casts = []\n",
    "for data in df['Cast']:\n",
    "    for cast in data:\n",
    "        if cast not in casts:\n",
    "            casts.append(cast)\n",
    "print(len(casts))"
   ]
  },
  {
   "cell_type": "code",
   "execution_count": 18,
   "metadata": {},
   "outputs": [
    {
     "name": "stdout",
     "output_type": "stream",
     "text": [
      "4819\n"
     ]
    }
   ],
   "source": [
    "crews = []\n",
    "for data in df['Crew']:\n",
    "    for crew in data:\n",
    "        if crew not in crews:\n",
    "            crews.append(crew)\n",
    "print(len(crews))"
   ]
  },
  {
   "cell_type": "code",
   "execution_count": 19,
   "metadata": {},
   "outputs": [
    {
     "name": "stdout",
     "output_type": "stream",
     "text": [
      "147\n"
     ]
    }
   ],
   "source": [
    "languages = []\n",
    "for data in df['Languages']:\n",
    "    for language in data:\n",
    "        if language not in languages:\n",
    "            languages.append(language)\n",
    "print(len(languages))"
   ]
  },
  {
   "cell_type": "code",
   "execution_count": 20,
   "metadata": {},
   "outputs": [
    {
     "name": "stdout",
     "output_type": "stream",
     "text": [
      "2550\n"
     ]
    }
   ],
   "source": [
    "studios = []\n",
    "for data in df['Studios']:\n",
    "    for studio in data:\n",
    "        if studio not in studios:\n",
    "            studios.append(studio)\n",
    "print(len(studios))"
   ]
  },
  {
   "cell_type": "code",
   "execution_count": 21,
   "metadata": {},
   "outputs": [
    {
     "name": "stdout",
     "output_type": "stream",
     "text": [
      "23\n"
     ]
    }
   ],
   "source": [
    "genres = []\n",
    "for data in df['Genre']:\n",
    "    for genre in data:\n",
    "        if genre not in genres:\n",
    "            genres.append(genre)\n",
    "print(len(genres))"
   ]
  },
  {
   "cell_type": "code",
   "execution_count": 22,
   "metadata": {},
   "outputs": [
    {
     "name": "stdout",
     "output_type": "stream",
     "text": [
      "74\n"
     ]
    }
   ],
   "source": [
    "countries = []\n",
    "for data in df['Countries']:\n",
    "    for country in data:\n",
    "        if country not in countries:\n",
    "            countries.append(country)\n",
    "print(len(countries))"
   ]
  },
  {
   "cell_type": "code",
   "execution_count": 23,
   "metadata": {},
   "outputs": [
    {
     "data": {
      "text/html": [
       "<div>\n",
       "<style scoped>\n",
       "    .dataframe tbody tr th:only-of-type {\n",
       "        vertical-align: middle;\n",
       "    }\n",
       "\n",
       "    .dataframe tbody tr th {\n",
       "        vertical-align: top;\n",
       "    }\n",
       "\n",
       "    .dataframe thead th {\n",
       "        text-align: right;\n",
       "    }\n",
       "</style>\n",
       "<table border=\"1\" class=\"dataframe\">\n",
       "  <thead>\n",
       "    <tr style=\"text-align: right;\">\n",
       "      <th></th>\n",
       "      <th>Title</th>\n",
       "      <th>Theater counts</th>\n",
       "      <th>Opening Weekend</th>\n",
       "      <th>Budget</th>\n",
       "      <th>Cast</th>\n",
       "      <th>Crew</th>\n",
       "      <th>Studios</th>\n",
       "      <th>Genre</th>\n",
       "      <th>Languages</th>\n",
       "      <th>Countries</th>\n",
       "      <th>Release_Data</th>\n",
       "      <th>Runtime</th>\n",
       "      <th>Gross_worldwide</th>\n",
       "      <th>Rating</th>\n",
       "      <th>ListOfCertificate</th>\n",
       "      <th>Release_Year</th>\n",
       "      <th>Release_Month</th>\n",
       "      <th>Release_Day</th>\n",
       "    </tr>\n",
       "  </thead>\n",
       "  <tbody>\n",
       "    <tr>\n",
       "      <th>0</th>\n",
       "      <td>Avatar</td>\n",
       "      <td>3452</td>\n",
       "      <td>77025481</td>\n",
       "      <td>237000000</td>\n",
       "      <td>[Sam Worthington, Zoe Saldana, Sigourney Weave...</td>\n",
       "      <td>[James Cameron]</td>\n",
       "      <td>[Twentieth Century Fox, Dune Entertainment, Li...</td>\n",
       "      <td>[Action, Adventure, Fantasy, Sci-Fi]</td>\n",
       "      <td>[English, Spanish]</td>\n",
       "      <td>[United States]</td>\n",
       "      <td>2009-12-18</td>\n",
       "      <td>162</td>\n",
       "      <td>2847246203</td>\n",
       "      <td>7.8</td>\n",
       "      <td>[PG-13]</td>\n",
       "      <td>2009</td>\n",
       "      <td>12</td>\n",
       "      <td>18</td>\n",
       "    </tr>\n",
       "    <tr>\n",
       "      <th>1</th>\n",
       "      <td>Avengers: Endgame</td>\n",
       "      <td>4662</td>\n",
       "      <td>357115007</td>\n",
       "      <td>356000000</td>\n",
       "      <td>[Robert Downey Jr., Chris Evans, Mark Ruffalo,...</td>\n",
       "      <td>[Stan Lee, Joe Russo, Christopher Markus, Step...</td>\n",
       "      <td>[Marvel Studios, Walt Disney Pictures]</td>\n",
       "      <td>[Action, Adventure, Drama, Sci-Fi]</td>\n",
       "      <td>[English, Japanese, Xhosa, German]</td>\n",
       "      <td>[United States]</td>\n",
       "      <td>2019-04-26</td>\n",
       "      <td>181</td>\n",
       "      <td>2797501328</td>\n",
       "      <td>8.4</td>\n",
       "      <td>[PG-13]</td>\n",
       "      <td>2019</td>\n",
       "      <td>4</td>\n",
       "      <td>26</td>\n",
       "    </tr>\n",
       "    <tr>\n",
       "      <th>2</th>\n",
       "      <td>Titanic</td>\n",
       "      <td>2674</td>\n",
       "      <td>28638131</td>\n",
       "      <td>200000000</td>\n",
       "      <td>[Leonardo DiCaprio, Kate Winslet, Billy Zane, ...</td>\n",
       "      <td>[James Cameron]</td>\n",
       "      <td>[Twentieth Century Fox, Paramount Pictures, Li...</td>\n",
       "      <td>[Drama, Romance]</td>\n",
       "      <td>[English, Swedish, Italian, French]</td>\n",
       "      <td>[United States, Mexico, Australia]</td>\n",
       "      <td>1997-12-18</td>\n",
       "      <td>194</td>\n",
       "      <td>2201647264</td>\n",
       "      <td>7.8</td>\n",
       "      <td>[PG-13]</td>\n",
       "      <td>1997</td>\n",
       "      <td>12</td>\n",
       "      <td>18</td>\n",
       "    </tr>\n",
       "    <tr>\n",
       "      <th>3</th>\n",
       "      <td>Avengers: Infinity War</td>\n",
       "      <td>4474</td>\n",
       "      <td>257698183</td>\n",
       "      <td>321000000</td>\n",
       "      <td>[Robert Downey Jr., Chris Hemsworth, Mark Ruff...</td>\n",
       "      <td>[Stan Lee, Joe Russo, Christopher Markus, Step...</td>\n",
       "      <td>[Marvel Studios, Jason Roberts Productions, So...</td>\n",
       "      <td>[Action, Adventure, Sci-Fi]</td>\n",
       "      <td>[English]</td>\n",
       "      <td>[United States]</td>\n",
       "      <td>2018-04-25</td>\n",
       "      <td>149</td>\n",
       "      <td>2048359754</td>\n",
       "      <td>8.4</td>\n",
       "      <td>[PG-13]</td>\n",
       "      <td>2018</td>\n",
       "      <td>4</td>\n",
       "      <td>25</td>\n",
       "    </tr>\n",
       "    <tr>\n",
       "      <th>4</th>\n",
       "      <td>Jurassic World</td>\n",
       "      <td>4274</td>\n",
       "      <td>208806270</td>\n",
       "      <td>150000000</td>\n",
       "      <td>[Chris Pratt, Bryce Dallas Howard, Ty Simpkins...</td>\n",
       "      <td>[Colin Trevorrow, Amanda Silver, Rick Jaffa]</td>\n",
       "      <td>[Universal Pictures, Amblin Entertainment, Leg...</td>\n",
       "      <td>[Action, Adventure, Sci-Fi]</td>\n",
       "      <td>[English]</td>\n",
       "      <td>[United States]</td>\n",
       "      <td>2015-06-12</td>\n",
       "      <td>124</td>\n",
       "      <td>1670516444</td>\n",
       "      <td>7.0</td>\n",
       "      <td>[PG-13]</td>\n",
       "      <td>2015</td>\n",
       "      <td>6</td>\n",
       "      <td>12</td>\n",
       "    </tr>\n",
       "  </tbody>\n",
       "</table>\n",
       "</div>"
      ],
      "text/plain": [
       "                    Title  Theater counts  Opening Weekend     Budget  \\\n",
       "0                  Avatar            3452         77025481  237000000   \n",
       "1       Avengers: Endgame            4662        357115007  356000000   \n",
       "2                 Titanic            2674         28638131  200000000   \n",
       "3  Avengers: Infinity War            4474        257698183  321000000   \n",
       "4          Jurassic World            4274        208806270  150000000   \n",
       "\n",
       "                                                Cast  \\\n",
       "0  [Sam Worthington, Zoe Saldana, Sigourney Weave...   \n",
       "1  [Robert Downey Jr., Chris Evans, Mark Ruffalo,...   \n",
       "2  [Leonardo DiCaprio, Kate Winslet, Billy Zane, ...   \n",
       "3  [Robert Downey Jr., Chris Hemsworth, Mark Ruff...   \n",
       "4  [Chris Pratt, Bryce Dallas Howard, Ty Simpkins...   \n",
       "\n",
       "                                                Crew  \\\n",
       "0                                    [James Cameron]   \n",
       "1  [Stan Lee, Joe Russo, Christopher Markus, Step...   \n",
       "2                                    [James Cameron]   \n",
       "3  [Stan Lee, Joe Russo, Christopher Markus, Step...   \n",
       "4       [Colin Trevorrow, Amanda Silver, Rick Jaffa]   \n",
       "\n",
       "                                             Studios  \\\n",
       "0  [Twentieth Century Fox, Dune Entertainment, Li...   \n",
       "1             [Marvel Studios, Walt Disney Pictures]   \n",
       "2  [Twentieth Century Fox, Paramount Pictures, Li...   \n",
       "3  [Marvel Studios, Jason Roberts Productions, So...   \n",
       "4  [Universal Pictures, Amblin Entertainment, Leg...   \n",
       "\n",
       "                                  Genre                            Languages  \\\n",
       "0  [Action, Adventure, Fantasy, Sci-Fi]                   [English, Spanish]   \n",
       "1    [Action, Adventure, Drama, Sci-Fi]   [English, Japanese, Xhosa, German]   \n",
       "2                      [Drama, Romance]  [English, Swedish, Italian, French]   \n",
       "3           [Action, Adventure, Sci-Fi]                            [English]   \n",
       "4           [Action, Adventure, Sci-Fi]                            [English]   \n",
       "\n",
       "                            Countries Release_Data  Runtime  Gross_worldwide  \\\n",
       "0                     [United States]   2009-12-18      162       2847246203   \n",
       "1                     [United States]   2019-04-26      181       2797501328   \n",
       "2  [United States, Mexico, Australia]   1997-12-18      194       2201647264   \n",
       "3                     [United States]   2018-04-25      149       2048359754   \n",
       "4                     [United States]   2015-06-12      124       1670516444   \n",
       "\n",
       "   Rating ListOfCertificate  Release_Year  Release_Month  Release_Day  \n",
       "0     7.8           [PG-13]          2009             12           18  \n",
       "1     8.4           [PG-13]          2019              4           26  \n",
       "2     7.8           [PG-13]          1997             12           18  \n",
       "3     8.4           [PG-13]          2018              4           25  \n",
       "4     7.0           [PG-13]          2015              6           12  "
      ]
     },
     "execution_count": 23,
     "metadata": {},
     "output_type": "execute_result"
    }
   ],
   "source": [
    "df.head()"
   ]
  },
  {
   "cell_type": "code",
   "execution_count": 24,
   "metadata": {},
   "outputs": [],
   "source": [
    "df.to_csv('data/cleaning_data.csv')"
   ]
  },
  {
   "cell_type": "code",
   "execution_count": 25,
   "metadata": {},
   "outputs": [],
   "source": [
    "df = pd.read_csv('data/cleaning_data.csv')\n",
    "df['Cast'] = df['Cast'].apply(ast.literal_eval)\n",
    "df['Cast'] = df['Cast'].apply(lambda x: x[:3])\n",
    "df['Crew'] = df['Crew'].apply(ast.literal_eval)\n",
    "df['Crew'] = df['Crew'].apply(lambda x: x[:3])\n",
    "df['Studios'] = df['Studios'].apply(ast.literal_eval)\n",
    "df['Studios'] = df['Studios'].apply(lambda x: x[:3])"
   ]
  },
  {
   "cell_type": "code",
   "execution_count": 26,
   "metadata": {},
   "outputs": [],
   "source": [
    "df.drop('Unnamed: 0', axis=1, inplace=True)\n",
    "df = df[df['Release_Year'] > 1980]\n",
    "df.to_csv('data/cleaning_data.csv')"
   ]
  }
 ],
 "metadata": {
  "kernelspec": {
   "display_name": ".venv",
   "language": "python",
   "name": "python3"
  },
  "language_info": {
   "codemirror_mode": {
    "name": "ipython",
    "version": 3
   },
   "file_extension": ".py",
   "mimetype": "text/x-python",
   "name": "python",
   "nbconvert_exporter": "python",
   "pygments_lexer": "ipython3",
   "version": "3.11.3"
  }
 },
 "nbformat": 4,
 "nbformat_minor": 2
}
