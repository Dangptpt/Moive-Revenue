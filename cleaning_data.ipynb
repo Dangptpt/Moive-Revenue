{
 "cells": [
  {
   "cell_type": "code",
   "execution_count": 77,
   "metadata": {},
   "outputs": [],
   "source": [
    "import pandas as pd\n",
    "import numpy as np\n",
    "import matplotlib.pyplot as plt\n",
    "import ast"
   ]
  },
  {
   "cell_type": "markdown",
   "metadata": {},
   "source": [
    "### Read and merge imdb and the reviewer data"
   ]
  },
  {
   "cell_type": "code",
   "execution_count": 78,
   "metadata": {},
   "outputs": [],
   "source": [
    "df = pd.read_csv('data/movie_details5000.csv')\n",
    "df['Title'] = df['Title'].str[:-7]\n",
    "df.head()\n",
    "df.to_csv('data/the_reviewer.csv')"
   ]
  },
  {
   "cell_type": "code",
   "execution_count": 79,
   "metadata": {},
   "outputs": [
    {
     "name": "stdout",
     "output_type": "stream",
     "text": [
      "<class 'pandas.core.frame.DataFrame'>\n",
      "RangeIndex: 3656 entries, 0 to 3655\n",
      "Data columns (total 15 columns):\n",
      " #   Column             Non-Null Count  Dtype  \n",
      "---  ------             --------------  -----  \n",
      " 0   Title              3656 non-null   object \n",
      " 1   Theater counts     2805 non-null   object \n",
      " 2   Opening Weekend    3362 non-null   object \n",
      " 3   Budget             3316 non-null   object \n",
      " 4   Cast               3654 non-null   object \n",
      " 5   Crew               3655 non-null   object \n",
      " 6   Studios            3653 non-null   object \n",
      " 7   Genre              3396 non-null   object \n",
      " 8   Languages          3652 non-null   object \n",
      " 9   Countries          3655 non-null   object \n",
      " 10  Release_Data       3656 non-null   object \n",
      " 11  Runtime            3656 non-null   object \n",
      " 12  Gross_worldwide    3550 non-null   object \n",
      " 13  Rating             3656 non-null   float64\n",
      " 14  ListOfCertificate  3519 non-null   object \n",
      "dtypes: float64(1), object(14)\n",
      "memory usage: 428.6+ KB\n"
     ]
    }
   ],
   "source": [
    "df1 = pd.read_csv('data/the_reviewer.csv')\n",
    "df2 = pd.read_csv('data/imdb.csv')\n",
    "df = pd.merge(df1, df2, on='Title')\n",
    "drop_columns = ['Rating_Count', 'Keywords', 'Release', 'Movie_ID', 'Filming_Location', 'Worldwide Box Office','Unnamed: 0']\n",
    "df.drop(drop_columns, axis=1, inplace=True)\n",
    "df.info()"
   ]
  },
  {
   "cell_type": "markdown",
   "metadata": {},
   "source": [
    "### Drop all records which Gross_worldwide is null"
   ]
  },
  {
   "cell_type": "code",
   "execution_count": 80,
   "metadata": {},
   "outputs": [],
   "source": [
    "df.dropna(subset=['Gross_worldwide'], inplace=True)\n",
    "df.reset_index(drop=True, inplace=True)"
   ]
  },
  {
   "cell_type": "markdown",
   "metadata": {},
   "source": [
    "### Parse some attribute"
   ]
  },
  {
   "cell_type": "code",
   "execution_count": 81,
   "metadata": {},
   "outputs": [],
   "source": [
    "def parse_currency(before_parsed):\n",
    "    if '$' in before_parsed:\n",
    "        after_parsed = int(before_parsed.strip('$').replace(',', \"\"))\n",
    "    else:\n",
    "        after_parsed = int(int(before_parsed.strip('€').replace(',', \"\")) * 1.14)\n",
    "    return after_parsed"
   ]
  },
  {
   "cell_type": "code",
   "execution_count": 82,
   "metadata": {},
   "outputs": [],
   "source": [
    "def parse_runtime(time):\n",
    "    time = str(time)\n",
    "    time = time.replace(\" \", \"\")\n",
    "    if \"hour\" in time:\n",
    "        hours = 0\n",
    "        if \"hours\" in time:\n",
    "            hours = int(time[0]) * 60\n",
    "            after_eliminate_hour = time.replace(\"hours\", \"\")\n",
    "        else:\n",
    "            hours = 60\n",
    "            after_eliminate_hour = time.replace(\"hour\", \"\")\n",
    "        minutes = 0\n",
    "        if \"minute\" in after_eliminate_hour:\n",
    "            if \"minutes\" in after_eliminate_hour:\n",
    "                minutes = int(after_eliminate_hour.replace(\"minutes\", \"\")[1:])\n",
    "            else:\n",
    "                minutes = 1\n",
    "        return int(hours) + int(minutes)\n",
    "    else:\n",
    "        return int(time.replace(\"minutes\", \"\"))"
   ]
  },
  {
   "cell_type": "code",
   "execution_count": 83,
   "metadata": {},
   "outputs": [],
   "source": [
    "def parse_multi_value(field_value):\n",
    "    array_value = field_value.split(',')\n",
    "    if '' in array_value:\n",
    "        return []\n",
    "    return array_value"
   ]
  },
  {
   "cell_type": "markdown",
   "metadata": {},
   "source": [
    "### Fill null value"
   ]
  },
  {
   "cell_type": "code",
   "execution_count": 84,
   "metadata": {},
   "outputs": [
    {
     "data": {
      "text/plain": [
       "Title                  0\n",
       "Theater counts       787\n",
       "Opening Weekend      240\n",
       "Budget               308\n",
       "Cast                   1\n",
       "Crew                   1\n",
       "Studios                2\n",
       "Genre                249\n",
       "Languages              2\n",
       "Countries              1\n",
       "Release_Data           0\n",
       "Runtime                0\n",
       "Gross_worldwide        0\n",
       "Rating                 0\n",
       "ListOfCertificate     92\n",
       "dtype: int64"
      ]
     },
     "execution_count": 84,
     "metadata": {},
     "output_type": "execute_result"
    }
   ],
   "source": [
    "df.isnull().sum()"
   ]
  },
  {
   "cell_type": "code",
   "execution_count": 85,
   "metadata": {},
   "outputs": [
    {
     "data": {
      "text/html": [
       "<div>\n",
       "<style scoped>\n",
       "    .dataframe tbody tr th:only-of-type {\n",
       "        vertical-align: middle;\n",
       "    }\n",
       "\n",
       "    .dataframe tbody tr th {\n",
       "        vertical-align: top;\n",
       "    }\n",
       "\n",
       "    .dataframe thead th {\n",
       "        text-align: right;\n",
       "    }\n",
       "</style>\n",
       "<table border=\"1\" class=\"dataframe\">\n",
       "  <thead>\n",
       "    <tr style=\"text-align: right;\">\n",
       "      <th></th>\n",
       "      <th>Title</th>\n",
       "      <th>Theater counts</th>\n",
       "      <th>Opening Weekend</th>\n",
       "      <th>Budget</th>\n",
       "      <th>Cast</th>\n",
       "      <th>Crew</th>\n",
       "      <th>Studios</th>\n",
       "      <th>Genre</th>\n",
       "      <th>Languages</th>\n",
       "      <th>Countries</th>\n",
       "      <th>Release_Data</th>\n",
       "      <th>Runtime</th>\n",
       "      <th>Gross_worldwide</th>\n",
       "      <th>Rating</th>\n",
       "      <th>ListOfCertificate</th>\n",
       "    </tr>\n",
       "  </thead>\n",
       "  <tbody>\n",
       "    <tr>\n",
       "      <th>0</th>\n",
       "      <td>Avatar</td>\n",
       "      <td>3,452</td>\n",
       "      <td>$77,025,481</td>\n",
       "      <td>$237,000,000</td>\n",
       "      <td>Sam Worthington,Zoe Saldana,Sigourney Weaver,M...</td>\n",
       "      <td>James Cameron</td>\n",
       "      <td>Twentieth Century Fox,Dune Entertainment,Light...</td>\n",
       "      <td>Action,Adventure,Fantasy,Sci-Fi</td>\n",
       "      <td>English,Spanish</td>\n",
       "      <td>United States</td>\n",
       "      <td>2009-12-18</td>\n",
       "      <td>2 hours 42 minutes</td>\n",
       "      <td>$2,847,246,203</td>\n",
       "      <td>7.8</td>\n",
       "      <td>PG-13</td>\n",
       "    </tr>\n",
       "    <tr>\n",
       "      <th>1</th>\n",
       "      <td>Avengers: Endgame</td>\n",
       "      <td>4,662</td>\n",
       "      <td>$357,115,007</td>\n",
       "      <td>$356,000,000</td>\n",
       "      <td>Robert Downey Jr.,Chris Evans,Mark Ruffalo,Chr...</td>\n",
       "      <td>Stan Lee,Joe Russo,Christopher Markus,Stephen ...</td>\n",
       "      <td>Marvel Studios,Walt Disney Pictures</td>\n",
       "      <td>Action,Adventure,Drama,Sci-Fi</td>\n",
       "      <td>English,Japanese,Xhosa,German</td>\n",
       "      <td>United States</td>\n",
       "      <td>2019-04-26</td>\n",
       "      <td>3 hours 1 minute</td>\n",
       "      <td>$2,797,501,328</td>\n",
       "      <td>8.4</td>\n",
       "      <td>PG-13</td>\n",
       "    </tr>\n",
       "  </tbody>\n",
       "</table>\n",
       "</div>"
      ],
      "text/plain": [
       "               Title Theater counts Opening Weekend        Budget  \\\n",
       "0             Avatar          3,452     $77,025,481  $237,000,000   \n",
       "1  Avengers: Endgame          4,662    $357,115,007  $356,000,000   \n",
       "\n",
       "                                                Cast  \\\n",
       "0  Sam Worthington,Zoe Saldana,Sigourney Weaver,M...   \n",
       "1  Robert Downey Jr.,Chris Evans,Mark Ruffalo,Chr...   \n",
       "\n",
       "                                                Crew  \\\n",
       "0                                      James Cameron   \n",
       "1  Stan Lee,Joe Russo,Christopher Markus,Stephen ...   \n",
       "\n",
       "                                             Studios  \\\n",
       "0  Twentieth Century Fox,Dune Entertainment,Light...   \n",
       "1                Marvel Studios,Walt Disney Pictures   \n",
       "\n",
       "                             Genre                      Languages  \\\n",
       "0  Action,Adventure,Fantasy,Sci-Fi                English,Spanish   \n",
       "1    Action,Adventure,Drama,Sci-Fi  English,Japanese,Xhosa,German   \n",
       "\n",
       "       Countries Release_Data             Runtime Gross_worldwide  Rating  \\\n",
       "0  United States   2009-12-18  2 hours 42 minutes  $2,847,246,203     7.8   \n",
       "1  United States   2019-04-26    3 hours 1 minute  $2,797,501,328     8.4   \n",
       "\n",
       "  ListOfCertificate  \n",
       "0             PG-13  \n",
       "1             PG-13  "
      ]
     },
     "execution_count": 85,
     "metadata": {},
     "output_type": "execute_result"
    }
   ],
   "source": [
    "df.head(2)"
   ]
  },
  {
   "cell_type": "code",
   "execution_count": 86,
   "metadata": {},
   "outputs": [
    {
     "name": "stderr",
     "output_type": "stream",
     "text": [
      "C:\\Users\\ASUS\\AppData\\Local\\Temp\\ipykernel_17920\\596629826.py:1: FutureWarning: A value is trying to be set on a copy of a DataFrame or Series through chained assignment using an inplace method.\n",
      "The behavior will change in pandas 3.0. This inplace method will never work because the intermediate object on which we are setting values always behaves as a copy.\n",
      "\n",
      "For example, when doing 'df[col].method(value, inplace=True)', try using 'df.method({col: value}, inplace=True)' or df[col] = df[col].method(value) instead, to perform the operation inplace on the original object.\n",
      "\n",
      "\n",
      "  df['Theater counts'].fillna('0', inplace=True)\n",
      "C:\\Users\\ASUS\\AppData\\Local\\Temp\\ipykernel_17920\\596629826.py:2: FutureWarning: A value is trying to be set on a copy of a DataFrame or Series through chained assignment using an inplace method.\n",
      "The behavior will change in pandas 3.0. This inplace method will never work because the intermediate object on which we are setting values always behaves as a copy.\n",
      "\n",
      "For example, when doing 'df[col].method(value, inplace=True)', try using 'df.method({col: value}, inplace=True)' or df[col] = df[col].method(value) instead, to perform the operation inplace on the original object.\n",
      "\n",
      "\n",
      "  df['Opening Weekend'].fillna('$0', inplace=True)\n",
      "C:\\Users\\ASUS\\AppData\\Local\\Temp\\ipykernel_17920\\596629826.py:3: FutureWarning: A value is trying to be set on a copy of a DataFrame or Series through chained assignment using an inplace method.\n",
      "The behavior will change in pandas 3.0. This inplace method will never work because the intermediate object on which we are setting values always behaves as a copy.\n",
      "\n",
      "For example, when doing 'df[col].method(value, inplace=True)', try using 'df.method({col: value}, inplace=True)' or df[col] = df[col].method(value) instead, to perform the operation inplace on the original object.\n",
      "\n",
      "\n",
      "  df['Budget'].fillna('$0', inplace=True)\n",
      "C:\\Users\\ASUS\\AppData\\Local\\Temp\\ipykernel_17920\\596629826.py:4: FutureWarning: A value is trying to be set on a copy of a DataFrame or Series through chained assignment using an inplace method.\n",
      "The behavior will change in pandas 3.0. This inplace method will never work because the intermediate object on which we are setting values always behaves as a copy.\n",
      "\n",
      "For example, when doing 'df[col].method(value, inplace=True)', try using 'df.method({col: value}, inplace=True)' or df[col] = df[col].method(value) instead, to perform the operation inplace on the original object.\n",
      "\n",
      "\n",
      "  df['ListOfCertificate'].fillna('G', inplace=True)\n"
     ]
    }
   ],
   "source": [
    "df['Theater counts'].fillna('0', inplace=True)\n",
    "df['Opening Weekend'].fillna('$0', inplace=True)\n",
    "df['Budget'].fillna('$0', inplace=True)\n",
    "df['ListOfCertificate'].fillna('G', inplace=True)\n",
    "df.fillna('', inplace=True)"
   ]
  },
  {
   "cell_type": "markdown",
   "metadata": {},
   "source": [
    "### Parsing attribute"
   ]
  },
  {
   "cell_type": "code",
   "execution_count": 87,
   "metadata": {},
   "outputs": [],
   "source": [
    "df['Gross_worldwide'] = df['Gross_worldwide'].apply(parse_currency)\n",
    "df['Opening Weekend'] = df['Opening Weekend'].apply(parse_currency)\n",
    "df['Budget'] = df['Budget'].apply(parse_currency)"
   ]
  },
  {
   "cell_type": "code",
   "execution_count": 88,
   "metadata": {},
   "outputs": [],
   "source": [
    "df['Theater counts'] = df['Theater counts'].str.replace(',', '')\n",
    "df['Theater counts'] = pd.to_numeric(df['Theater counts'], errors='coerce')\n",
    "df['Runtime'] = df['Runtime'].apply(parse_runtime)"
   ]
  },
  {
   "cell_type": "code",
   "execution_count": 89,
   "metadata": {},
   "outputs": [],
   "source": [
    "cols = ['Cast', 'Genre', 'Studios', 'ListOfCertificate', 'Languages', 'Countries', 'Crew']\n",
    "for col in cols:\n",
    "    df[col] = df[col].apply(parse_multi_value)"
   ]
  },
  {
   "cell_type": "code",
   "execution_count": 90,
   "metadata": {},
   "outputs": [],
   "source": [
    "df['Release_Data'] = pd.to_datetime(df['Release_Data'], format='%Y-%m-%d')\n",
    "df['Release_Year'] = df['Release_Data'].apply(lambda x: x.year)\n",
    "df['Release_Month'] = df['Release_Data'].apply(lambda x: x.month)\n",
    "df['Release_Day'] = df['Release_Data'].apply(lambda x: x.day)"
   ]
  },
  {
   "cell_type": "markdown",
   "metadata": {},
   "source": [
    "### Replace value 0 to mean"
   ]
  },
  {
   "cell_type": "code",
   "execution_count": 91,
   "metadata": {},
   "outputs": [
    {
     "name": "stdout",
     "output_type": "stream",
     "text": [
      "47309015\n",
      "18260007\n",
      "2381\n"
     ]
    }
   ],
   "source": [
    "mean_bugdet = int(df['Budget'][df['Budget'] != 0].mean())\n",
    "print(mean_bugdet)\n",
    "mean_opening = int(df['Opening Weekend'][df['Opening Weekend'] != 0].mean())\n",
    "print(mean_opening)\n",
    "mean_theater = int(df['Theater counts'][df['Theater counts'] != 0].mean())\n",
    "print(mean_theater)\n",
    "df['Budget'] = df['Budget'].replace(0, mean_bugdet)\n",
    "df['Opening Weekend'] = df['Opening Weekend'].replace(0, mean_opening)\n",
    "df['Theater counts'] = df['Theater counts'].replace(0, mean_theater)\n"
   ]
  },
  {
   "cell_type": "markdown",
   "metadata": {},
   "source": [
    "### Replace old MPAA rating with new one"
   ]
  },
  {
   "cell_type": "code",
   "execution_count": 101,
   "metadata": {},
   "outputs": [
    {
     "name": "stdout",
     "output_type": "stream",
     "text": [
      "['PG-13', 'PG', 'G', 'R', 'NC-17']\n"
     ]
    }
   ],
   "source": [
    "old_rating = ['M', 'X', 'GP', 'M/PG']\n",
    "for data in df['ListOfCertificate']:\n",
    "    for cerf in data:\n",
    "        if cerf in old_rating:\n",
    "            data.remove(cerf)\n",
    "            if cerf == 'X':\n",
    "                if 'NC-17' not in data:\n",
    "                    data.append('NC-17')\n",
    "            else:\n",
    "                if 'PG' not in data:\n",
    "                    data.append('PG')\n",
    "\n",
    "cerfs = []\n",
    "for data in df['ListOfCertificate']:\n",
    "    for cerf in data:\n",
    "        if cerf not in cerfs:\n",
    "            cerfs.append(cerf)\n",
    "print(cerfs)"
   ]
  },
  {
   "cell_type": "code",
   "execution_count": 93,
   "metadata": {},
   "outputs": [
    {
     "name": "stdout",
     "output_type": "stream",
     "text": [
      "30967\n"
     ]
    }
   ],
   "source": [
    "casts = []\n",
    "for data in df['Cast']:\n",
    "    for cast in data:\n",
    "        if cast not in casts:\n",
    "            casts.append(cast)\n",
    "print(len(casts))"
   ]
  },
  {
   "cell_type": "code",
   "execution_count": 94,
   "metadata": {},
   "outputs": [
    {
     "name": "stdout",
     "output_type": "stream",
     "text": [
      "4819\n"
     ]
    }
   ],
   "source": [
    "crews = []\n",
    "for data in df['Crew']:\n",
    "    for crew in data:\n",
    "        if crew not in crews:\n",
    "            crews.append(crew)\n",
    "print(len(crews))"
   ]
  },
  {
   "cell_type": "code",
   "execution_count": 95,
   "metadata": {},
   "outputs": [
    {
     "name": "stdout",
     "output_type": "stream",
     "text": [
      "147\n"
     ]
    }
   ],
   "source": [
    "languages = []\n",
    "for data in df['Languages']:\n",
    "    for language in data:\n",
    "        if language not in languages:\n",
    "            languages.append(language)\n",
    "print(len(languages))"
   ]
  },
  {
   "cell_type": "code",
   "execution_count": 96,
   "metadata": {},
   "outputs": [
    {
     "name": "stdout",
     "output_type": "stream",
     "text": [
      "2550\n"
     ]
    }
   ],
   "source": [
    "studios = []\n",
    "for data in df['Studios']:\n",
    "    for studio in data:\n",
    "        if studio not in studios:\n",
    "            studios.append(studio)\n",
    "print(len(studios))"
   ]
  },
  {
   "cell_type": "code",
   "execution_count": 97,
   "metadata": {},
   "outputs": [
    {
     "name": "stdout",
     "output_type": "stream",
     "text": [
      "23\n"
     ]
    }
   ],
   "source": [
    "genres = []\n",
    "for data in df['Genre']:\n",
    "    for genre in data:\n",
    "        if genre not in genres:\n",
    "            genres.append(genre)\n",
    "print(len(genres))"
   ]
  },
  {
   "cell_type": "code",
   "execution_count": 98,
   "metadata": {},
   "outputs": [
    {
     "name": "stdout",
     "output_type": "stream",
     "text": [
      "74\n"
     ]
    }
   ],
   "source": [
    "countries = []\n",
    "for data in df['Countries']:\n",
    "    for country in data:\n",
    "        if country not in countries:\n",
    "            countries.append(country)\n",
    "print(len(countries))"
   ]
  },
  {
   "cell_type": "code",
   "execution_count": 99,
   "metadata": {},
   "outputs": [
    {
     "data": {
      "text/html": [
       "<div>\n",
       "<style scoped>\n",
       "    .dataframe tbody tr th:only-of-type {\n",
       "        vertical-align: middle;\n",
       "    }\n",
       "\n",
       "    .dataframe tbody tr th {\n",
       "        vertical-align: top;\n",
       "    }\n",
       "\n",
       "    .dataframe thead th {\n",
       "        text-align: right;\n",
       "    }\n",
       "</style>\n",
       "<table border=\"1\" class=\"dataframe\">\n",
       "  <thead>\n",
       "    <tr style=\"text-align: right;\">\n",
       "      <th></th>\n",
       "      <th>Title</th>\n",
       "      <th>Theater counts</th>\n",
       "      <th>Opening Weekend</th>\n",
       "      <th>Budget</th>\n",
       "      <th>Cast</th>\n",
       "      <th>Crew</th>\n",
       "      <th>Studios</th>\n",
       "      <th>Genre</th>\n",
       "      <th>Languages</th>\n",
       "      <th>Countries</th>\n",
       "      <th>Release_Data</th>\n",
       "      <th>Runtime</th>\n",
       "      <th>Gross_worldwide</th>\n",
       "      <th>Rating</th>\n",
       "      <th>ListOfCertificate</th>\n",
       "      <th>Release_Year</th>\n",
       "      <th>Release_Month</th>\n",
       "      <th>Release_Day</th>\n",
       "    </tr>\n",
       "  </thead>\n",
       "  <tbody>\n",
       "    <tr>\n",
       "      <th>0</th>\n",
       "      <td>Avatar</td>\n",
       "      <td>3452</td>\n",
       "      <td>77025481</td>\n",
       "      <td>237000000</td>\n",
       "      <td>[Sam Worthington, Zoe Saldana, Sigourney Weave...</td>\n",
       "      <td>[James Cameron]</td>\n",
       "      <td>[Twentieth Century Fox, Dune Entertainment, Li...</td>\n",
       "      <td>[Action, Adventure, Fantasy, Sci-Fi]</td>\n",
       "      <td>[English, Spanish]</td>\n",
       "      <td>[United States]</td>\n",
       "      <td>2009-12-18</td>\n",
       "      <td>162</td>\n",
       "      <td>2847246203</td>\n",
       "      <td>7.8</td>\n",
       "      <td>[PG-13]</td>\n",
       "      <td>2009</td>\n",
       "      <td>12</td>\n",
       "      <td>18</td>\n",
       "    </tr>\n",
       "    <tr>\n",
       "      <th>1</th>\n",
       "      <td>Avengers: Endgame</td>\n",
       "      <td>4662</td>\n",
       "      <td>357115007</td>\n",
       "      <td>356000000</td>\n",
       "      <td>[Robert Downey Jr., Chris Evans, Mark Ruffalo,...</td>\n",
       "      <td>[Stan Lee, Joe Russo, Christopher Markus, Step...</td>\n",
       "      <td>[Marvel Studios, Walt Disney Pictures]</td>\n",
       "      <td>[Action, Adventure, Drama, Sci-Fi]</td>\n",
       "      <td>[English, Japanese, Xhosa, German]</td>\n",
       "      <td>[United States]</td>\n",
       "      <td>2019-04-26</td>\n",
       "      <td>181</td>\n",
       "      <td>2797501328</td>\n",
       "      <td>8.4</td>\n",
       "      <td>[PG-13]</td>\n",
       "      <td>2019</td>\n",
       "      <td>4</td>\n",
       "      <td>26</td>\n",
       "    </tr>\n",
       "    <tr>\n",
       "      <th>2</th>\n",
       "      <td>Titanic</td>\n",
       "      <td>2674</td>\n",
       "      <td>28638131</td>\n",
       "      <td>200000000</td>\n",
       "      <td>[Leonardo DiCaprio, Kate Winslet, Billy Zane, ...</td>\n",
       "      <td>[James Cameron]</td>\n",
       "      <td>[Twentieth Century Fox, Paramount Pictures, Li...</td>\n",
       "      <td>[Drama, Romance]</td>\n",
       "      <td>[English, Swedish, Italian, French]</td>\n",
       "      <td>[United States, Mexico, Australia]</td>\n",
       "      <td>1997-12-18</td>\n",
       "      <td>194</td>\n",
       "      <td>2201647264</td>\n",
       "      <td>7.8</td>\n",
       "      <td>[PG-13]</td>\n",
       "      <td>1997</td>\n",
       "      <td>12</td>\n",
       "      <td>18</td>\n",
       "    </tr>\n",
       "    <tr>\n",
       "      <th>3</th>\n",
       "      <td>Avengers: Infinity War</td>\n",
       "      <td>4474</td>\n",
       "      <td>257698183</td>\n",
       "      <td>321000000</td>\n",
       "      <td>[Robert Downey Jr., Chris Hemsworth, Mark Ruff...</td>\n",
       "      <td>[Stan Lee, Joe Russo, Christopher Markus, Step...</td>\n",
       "      <td>[Marvel Studios, Jason Roberts Productions, So...</td>\n",
       "      <td>[Action, Adventure, Sci-Fi]</td>\n",
       "      <td>[English]</td>\n",
       "      <td>[United States]</td>\n",
       "      <td>2018-04-25</td>\n",
       "      <td>149</td>\n",
       "      <td>2048359754</td>\n",
       "      <td>8.4</td>\n",
       "      <td>[PG-13]</td>\n",
       "      <td>2018</td>\n",
       "      <td>4</td>\n",
       "      <td>25</td>\n",
       "    </tr>\n",
       "    <tr>\n",
       "      <th>4</th>\n",
       "      <td>Jurassic World</td>\n",
       "      <td>4274</td>\n",
       "      <td>208806270</td>\n",
       "      <td>150000000</td>\n",
       "      <td>[Chris Pratt, Bryce Dallas Howard, Ty Simpkins...</td>\n",
       "      <td>[Colin Trevorrow, Amanda Silver, Rick Jaffa]</td>\n",
       "      <td>[Universal Pictures, Amblin Entertainment, Leg...</td>\n",
       "      <td>[Action, Adventure, Sci-Fi]</td>\n",
       "      <td>[English]</td>\n",
       "      <td>[United States]</td>\n",
       "      <td>2015-06-12</td>\n",
       "      <td>124</td>\n",
       "      <td>1670516444</td>\n",
       "      <td>7.0</td>\n",
       "      <td>[PG-13]</td>\n",
       "      <td>2015</td>\n",
       "      <td>6</td>\n",
       "      <td>12</td>\n",
       "    </tr>\n",
       "  </tbody>\n",
       "</table>\n",
       "</div>"
      ],
      "text/plain": [
       "                    Title  Theater counts  Opening Weekend     Budget  \\\n",
       "0                  Avatar            3452         77025481  237000000   \n",
       "1       Avengers: Endgame            4662        357115007  356000000   \n",
       "2                 Titanic            2674         28638131  200000000   \n",
       "3  Avengers: Infinity War            4474        257698183  321000000   \n",
       "4          Jurassic World            4274        208806270  150000000   \n",
       "\n",
       "                                                Cast  \\\n",
       "0  [Sam Worthington, Zoe Saldana, Sigourney Weave...   \n",
       "1  [Robert Downey Jr., Chris Evans, Mark Ruffalo,...   \n",
       "2  [Leonardo DiCaprio, Kate Winslet, Billy Zane, ...   \n",
       "3  [Robert Downey Jr., Chris Hemsworth, Mark Ruff...   \n",
       "4  [Chris Pratt, Bryce Dallas Howard, Ty Simpkins...   \n",
       "\n",
       "                                                Crew  \\\n",
       "0                                    [James Cameron]   \n",
       "1  [Stan Lee, Joe Russo, Christopher Markus, Step...   \n",
       "2                                    [James Cameron]   \n",
       "3  [Stan Lee, Joe Russo, Christopher Markus, Step...   \n",
       "4       [Colin Trevorrow, Amanda Silver, Rick Jaffa]   \n",
       "\n",
       "                                             Studios  \\\n",
       "0  [Twentieth Century Fox, Dune Entertainment, Li...   \n",
       "1             [Marvel Studios, Walt Disney Pictures]   \n",
       "2  [Twentieth Century Fox, Paramount Pictures, Li...   \n",
       "3  [Marvel Studios, Jason Roberts Productions, So...   \n",
       "4  [Universal Pictures, Amblin Entertainment, Leg...   \n",
       "\n",
       "                                  Genre                            Languages  \\\n",
       "0  [Action, Adventure, Fantasy, Sci-Fi]                   [English, Spanish]   \n",
       "1    [Action, Adventure, Drama, Sci-Fi]   [English, Japanese, Xhosa, German]   \n",
       "2                      [Drama, Romance]  [English, Swedish, Italian, French]   \n",
       "3           [Action, Adventure, Sci-Fi]                            [English]   \n",
       "4           [Action, Adventure, Sci-Fi]                            [English]   \n",
       "\n",
       "                            Countries Release_Data  Runtime  Gross_worldwide  \\\n",
       "0                     [United States]   2009-12-18      162       2847246203   \n",
       "1                     [United States]   2019-04-26      181       2797501328   \n",
       "2  [United States, Mexico, Australia]   1997-12-18      194       2201647264   \n",
       "3                     [United States]   2018-04-25      149       2048359754   \n",
       "4                     [United States]   2015-06-12      124       1670516444   \n",
       "\n",
       "   Rating ListOfCertificate  Release_Year  Release_Month  Release_Day  \n",
       "0     7.8           [PG-13]          2009             12           18  \n",
       "1     8.4           [PG-13]          2019              4           26  \n",
       "2     7.8           [PG-13]          1997             12           18  \n",
       "3     8.4           [PG-13]          2018              4           25  \n",
       "4     7.0           [PG-13]          2015              6           12  "
      ]
     },
     "execution_count": 99,
     "metadata": {},
     "output_type": "execute_result"
    }
   ],
   "source": [
    "df.head()"
   ]
  },
  {
   "cell_type": "code",
   "execution_count": 100,
   "metadata": {},
   "outputs": [
    {
     "ename": "KeyError",
     "evalue": "\"['Unnamed: 0'] not found in axis\"",
     "output_type": "error",
     "traceback": [
      "\u001b[1;31m---------------------------------------------------------------------------\u001b[0m",
      "\u001b[1;31mKeyError\u001b[0m                                  Traceback (most recent call last)",
      "Cell \u001b[1;32mIn[100], line 1\u001b[0m\n\u001b[1;32m----> 1\u001b[0m \u001b[43mdf\u001b[49m\u001b[38;5;241;43m.\u001b[39;49m\u001b[43mdrop\u001b[49m\u001b[43m(\u001b[49m\u001b[38;5;124;43m'\u001b[39;49m\u001b[38;5;124;43mUnnamed: 0\u001b[39;49m\u001b[38;5;124;43m'\u001b[39;49m\u001b[43m,\u001b[49m\u001b[43m \u001b[49m\u001b[43maxis\u001b[49m\u001b[38;5;241;43m=\u001b[39;49m\u001b[38;5;241;43m1\u001b[39;49m\u001b[43m,\u001b[49m\u001b[43m \u001b[49m\u001b[43minplace\u001b[49m\u001b[38;5;241;43m=\u001b[39;49m\u001b[38;5;28;43;01mTrue\u001b[39;49;00m\u001b[43m)\u001b[49m\n\u001b[0;32m      2\u001b[0m df \u001b[38;5;241m=\u001b[39m df[df[\u001b[38;5;124m'\u001b[39m\u001b[38;5;124mRelease_Year\u001b[39m\u001b[38;5;124m'\u001b[39m] \u001b[38;5;241m>\u001b[39m \u001b[38;5;241m1980\u001b[39m]\n\u001b[0;32m      3\u001b[0m df\u001b[38;5;241m.\u001b[39mto_csv(\u001b[38;5;124m'\u001b[39m\u001b[38;5;124mdata/cleaning_data.csv\u001b[39m\u001b[38;5;124m'\u001b[39m)\n",
      "File \u001b[1;32md:\\Hust Study\\Fundament\\Machine Learning & Data Mining\\Project\\Movie Revenue\\.venv\\Lib\\site-packages\\pandas\\core\\frame.py:5581\u001b[0m, in \u001b[0;36mDataFrame.drop\u001b[1;34m(self, labels, axis, index, columns, level, inplace, errors)\u001b[0m\n\u001b[0;32m   5433\u001b[0m \u001b[38;5;28;01mdef\u001b[39;00m \u001b[38;5;21mdrop\u001b[39m(\n\u001b[0;32m   5434\u001b[0m     \u001b[38;5;28mself\u001b[39m,\n\u001b[0;32m   5435\u001b[0m     labels: IndexLabel \u001b[38;5;241m|\u001b[39m \u001b[38;5;28;01mNone\u001b[39;00m \u001b[38;5;241m=\u001b[39m \u001b[38;5;28;01mNone\u001b[39;00m,\n\u001b[1;32m   (...)\u001b[0m\n\u001b[0;32m   5442\u001b[0m     errors: IgnoreRaise \u001b[38;5;241m=\u001b[39m \u001b[38;5;124m\"\u001b[39m\u001b[38;5;124mraise\u001b[39m\u001b[38;5;124m\"\u001b[39m,\n\u001b[0;32m   5443\u001b[0m ) \u001b[38;5;241m-\u001b[39m\u001b[38;5;241m>\u001b[39m DataFrame \u001b[38;5;241m|\u001b[39m \u001b[38;5;28;01mNone\u001b[39;00m:\n\u001b[0;32m   5444\u001b[0m \u001b[38;5;250m    \u001b[39m\u001b[38;5;124;03m\"\"\"\u001b[39;00m\n\u001b[0;32m   5445\u001b[0m \u001b[38;5;124;03m    Drop specified labels from rows or columns.\u001b[39;00m\n\u001b[0;32m   5446\u001b[0m \n\u001b[1;32m   (...)\u001b[0m\n\u001b[0;32m   5579\u001b[0m \u001b[38;5;124;03m            weight  1.0     0.8\u001b[39;00m\n\u001b[0;32m   5580\u001b[0m \u001b[38;5;124;03m    \"\"\"\u001b[39;00m\n\u001b[1;32m-> 5581\u001b[0m     \u001b[38;5;28;01mreturn\u001b[39;00m \u001b[38;5;28;43msuper\u001b[39;49m\u001b[43m(\u001b[49m\u001b[43m)\u001b[49m\u001b[38;5;241;43m.\u001b[39;49m\u001b[43mdrop\u001b[49m\u001b[43m(\u001b[49m\n\u001b[0;32m   5582\u001b[0m \u001b[43m        \u001b[49m\u001b[43mlabels\u001b[49m\u001b[38;5;241;43m=\u001b[39;49m\u001b[43mlabels\u001b[49m\u001b[43m,\u001b[49m\n\u001b[0;32m   5583\u001b[0m \u001b[43m        \u001b[49m\u001b[43maxis\u001b[49m\u001b[38;5;241;43m=\u001b[39;49m\u001b[43maxis\u001b[49m\u001b[43m,\u001b[49m\n\u001b[0;32m   5584\u001b[0m \u001b[43m        \u001b[49m\u001b[43mindex\u001b[49m\u001b[38;5;241;43m=\u001b[39;49m\u001b[43mindex\u001b[49m\u001b[43m,\u001b[49m\n\u001b[0;32m   5585\u001b[0m \u001b[43m        \u001b[49m\u001b[43mcolumns\u001b[49m\u001b[38;5;241;43m=\u001b[39;49m\u001b[43mcolumns\u001b[49m\u001b[43m,\u001b[49m\n\u001b[0;32m   5586\u001b[0m \u001b[43m        \u001b[49m\u001b[43mlevel\u001b[49m\u001b[38;5;241;43m=\u001b[39;49m\u001b[43mlevel\u001b[49m\u001b[43m,\u001b[49m\n\u001b[0;32m   5587\u001b[0m \u001b[43m        \u001b[49m\u001b[43minplace\u001b[49m\u001b[38;5;241;43m=\u001b[39;49m\u001b[43minplace\u001b[49m\u001b[43m,\u001b[49m\n\u001b[0;32m   5588\u001b[0m \u001b[43m        \u001b[49m\u001b[43merrors\u001b[49m\u001b[38;5;241;43m=\u001b[39;49m\u001b[43merrors\u001b[49m\u001b[43m,\u001b[49m\n\u001b[0;32m   5589\u001b[0m \u001b[43m    \u001b[49m\u001b[43m)\u001b[49m\n",
      "File \u001b[1;32md:\\Hust Study\\Fundament\\Machine Learning & Data Mining\\Project\\Movie Revenue\\.venv\\Lib\\site-packages\\pandas\\core\\generic.py:4788\u001b[0m, in \u001b[0;36mNDFrame.drop\u001b[1;34m(self, labels, axis, index, columns, level, inplace, errors)\u001b[0m\n\u001b[0;32m   4786\u001b[0m \u001b[38;5;28;01mfor\u001b[39;00m axis, labels \u001b[38;5;129;01min\u001b[39;00m axes\u001b[38;5;241m.\u001b[39mitems():\n\u001b[0;32m   4787\u001b[0m     \u001b[38;5;28;01mif\u001b[39;00m labels \u001b[38;5;129;01mis\u001b[39;00m \u001b[38;5;129;01mnot\u001b[39;00m \u001b[38;5;28;01mNone\u001b[39;00m:\n\u001b[1;32m-> 4788\u001b[0m         obj \u001b[38;5;241m=\u001b[39m \u001b[43mobj\u001b[49m\u001b[38;5;241;43m.\u001b[39;49m\u001b[43m_drop_axis\u001b[49m\u001b[43m(\u001b[49m\u001b[43mlabels\u001b[49m\u001b[43m,\u001b[49m\u001b[43m \u001b[49m\u001b[43maxis\u001b[49m\u001b[43m,\u001b[49m\u001b[43m \u001b[49m\u001b[43mlevel\u001b[49m\u001b[38;5;241;43m=\u001b[39;49m\u001b[43mlevel\u001b[49m\u001b[43m,\u001b[49m\u001b[43m \u001b[49m\u001b[43merrors\u001b[49m\u001b[38;5;241;43m=\u001b[39;49m\u001b[43merrors\u001b[49m\u001b[43m)\u001b[49m\n\u001b[0;32m   4790\u001b[0m \u001b[38;5;28;01mif\u001b[39;00m inplace:\n\u001b[0;32m   4791\u001b[0m     \u001b[38;5;28mself\u001b[39m\u001b[38;5;241m.\u001b[39m_update_inplace(obj)\n",
      "File \u001b[1;32md:\\Hust Study\\Fundament\\Machine Learning & Data Mining\\Project\\Movie Revenue\\.venv\\Lib\\site-packages\\pandas\\core\\generic.py:4830\u001b[0m, in \u001b[0;36mNDFrame._drop_axis\u001b[1;34m(self, labels, axis, level, errors, only_slice)\u001b[0m\n\u001b[0;32m   4828\u001b[0m         new_axis \u001b[38;5;241m=\u001b[39m axis\u001b[38;5;241m.\u001b[39mdrop(labels, level\u001b[38;5;241m=\u001b[39mlevel, errors\u001b[38;5;241m=\u001b[39merrors)\n\u001b[0;32m   4829\u001b[0m     \u001b[38;5;28;01melse\u001b[39;00m:\n\u001b[1;32m-> 4830\u001b[0m         new_axis \u001b[38;5;241m=\u001b[39m \u001b[43maxis\u001b[49m\u001b[38;5;241;43m.\u001b[39;49m\u001b[43mdrop\u001b[49m\u001b[43m(\u001b[49m\u001b[43mlabels\u001b[49m\u001b[43m,\u001b[49m\u001b[43m \u001b[49m\u001b[43merrors\u001b[49m\u001b[38;5;241;43m=\u001b[39;49m\u001b[43merrors\u001b[49m\u001b[43m)\u001b[49m\n\u001b[0;32m   4831\u001b[0m     indexer \u001b[38;5;241m=\u001b[39m axis\u001b[38;5;241m.\u001b[39mget_indexer(new_axis)\n\u001b[0;32m   4833\u001b[0m \u001b[38;5;66;03m# Case for non-unique axis\u001b[39;00m\n\u001b[0;32m   4834\u001b[0m \u001b[38;5;28;01melse\u001b[39;00m:\n",
      "File \u001b[1;32md:\\Hust Study\\Fundament\\Machine Learning & Data Mining\\Project\\Movie Revenue\\.venv\\Lib\\site-packages\\pandas\\core\\indexes\\base.py:7070\u001b[0m, in \u001b[0;36mIndex.drop\u001b[1;34m(self, labels, errors)\u001b[0m\n\u001b[0;32m   7068\u001b[0m \u001b[38;5;28;01mif\u001b[39;00m mask\u001b[38;5;241m.\u001b[39many():\n\u001b[0;32m   7069\u001b[0m     \u001b[38;5;28;01mif\u001b[39;00m errors \u001b[38;5;241m!=\u001b[39m \u001b[38;5;124m\"\u001b[39m\u001b[38;5;124mignore\u001b[39m\u001b[38;5;124m\"\u001b[39m:\n\u001b[1;32m-> 7070\u001b[0m         \u001b[38;5;28;01mraise\u001b[39;00m \u001b[38;5;167;01mKeyError\u001b[39;00m(\u001b[38;5;124mf\u001b[39m\u001b[38;5;124m\"\u001b[39m\u001b[38;5;132;01m{\u001b[39;00mlabels[mask]\u001b[38;5;241m.\u001b[39mtolist()\u001b[38;5;132;01m}\u001b[39;00m\u001b[38;5;124m not found in axis\u001b[39m\u001b[38;5;124m\"\u001b[39m)\n\u001b[0;32m   7071\u001b[0m     indexer \u001b[38;5;241m=\u001b[39m indexer[\u001b[38;5;241m~\u001b[39mmask]\n\u001b[0;32m   7072\u001b[0m \u001b[38;5;28;01mreturn\u001b[39;00m \u001b[38;5;28mself\u001b[39m\u001b[38;5;241m.\u001b[39mdelete(indexer)\n",
      "\u001b[1;31mKeyError\u001b[0m: \"['Unnamed: 0'] not found in axis\""
     ]
    }
   ],
   "source": [
    "df.drop('Unnamed: 0', axis=1, inplace=True)\n",
    "df = df[df['Release_Year'] > 1980]\n",
    "df.to_csv('data/cleaning_data.csv')"
   ]
  }
 ],
 "metadata": {
  "kernelspec": {
   "display_name": ".venv",
   "language": "python",
   "name": "python3"
  },
  "language_info": {
   "codemirror_mode": {
    "name": "ipython",
    "version": 3
   },
   "file_extension": ".py",
   "mimetype": "text/x-python",
   "name": "python",
   "nbconvert_exporter": "python",
   "pygments_lexer": "ipython3",
   "version": "3.11.3"
  }
 },
 "nbformat": 4,
 "nbformat_minor": 2
}
