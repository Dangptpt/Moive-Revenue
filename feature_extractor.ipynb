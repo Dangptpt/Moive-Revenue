{
 "cells": [
  {
   "cell_type": "code",
   "execution_count": 3,
   "metadata": {},
   "outputs": [],
   "source": [
    "import pandas as pd\n",
    "import numpy as np\n",
    "import matplotlib.pyplot as plt\n",
    "import ast\n",
    "from collections import Counter\n",
    "import seaborn as sns"
   ]
  },
  {
   "cell_type": "code",
   "execution_count": 4,
   "metadata": {},
   "outputs": [
    {
     "data": {
      "text/html": [
       "<div>\n",
       "<style scoped>\n",
       "    .dataframe tbody tr th:only-of-type {\n",
       "        vertical-align: middle;\n",
       "    }\n",
       "\n",
       "    .dataframe tbody tr th {\n",
       "        vertical-align: top;\n",
       "    }\n",
       "\n",
       "    .dataframe thead th {\n",
       "        text-align: right;\n",
       "    }\n",
       "</style>\n",
       "<table border=\"1\" class=\"dataframe\">\n",
       "  <thead>\n",
       "    <tr style=\"text-align: right;\">\n",
       "      <th></th>\n",
       "      <th>Title</th>\n",
       "      <th>Theater counts</th>\n",
       "      <th>Opening Weekend</th>\n",
       "      <th>Budget</th>\n",
       "      <th>Cast</th>\n",
       "      <th>Crew</th>\n",
       "      <th>Studios</th>\n",
       "      <th>Genre</th>\n",
       "      <th>Languages</th>\n",
       "      <th>Countries</th>\n",
       "      <th>Release_Data</th>\n",
       "      <th>Runtime</th>\n",
       "      <th>Gross_worldwide</th>\n",
       "      <th>Rating</th>\n",
       "      <th>ListOfCertificate</th>\n",
       "      <th>Release_Year</th>\n",
       "      <th>Release_Month</th>\n",
       "      <th>Release_Day</th>\n",
       "    </tr>\n",
       "  </thead>\n",
       "  <tbody>\n",
       "    <tr>\n",
       "      <th>0</th>\n",
       "      <td>Avatar</td>\n",
       "      <td>3452</td>\n",
       "      <td>77025481</td>\n",
       "      <td>237000000</td>\n",
       "      <td>['Sam Worthington', 'Zoe Saldana', 'Sigourney ...</td>\n",
       "      <td>['James Cameron']</td>\n",
       "      <td>['Twentieth Century Fox', 'Dune Entertainment'...</td>\n",
       "      <td>['Action', 'Adventure', 'Fantasy', 'Sci-Fi']</td>\n",
       "      <td>['English', 'Spanish']</td>\n",
       "      <td>['United States']</td>\n",
       "      <td>2009-12-18</td>\n",
       "      <td>162</td>\n",
       "      <td>2847246203</td>\n",
       "      <td>7.8</td>\n",
       "      <td>['PG-13']</td>\n",
       "      <td>2009</td>\n",
       "      <td>12</td>\n",
       "      <td>18</td>\n",
       "    </tr>\n",
       "    <tr>\n",
       "      <th>1</th>\n",
       "      <td>Avengers: Endgame</td>\n",
       "      <td>4662</td>\n",
       "      <td>357115007</td>\n",
       "      <td>356000000</td>\n",
       "      <td>['Robert Downey Jr.', 'Chris Evans', 'Mark Ruf...</td>\n",
       "      <td>['Stan Lee', 'Joe Russo', 'Christopher Markus']</td>\n",
       "      <td>['Marvel Studios', 'Walt Disney Pictures']</td>\n",
       "      <td>['Action', 'Adventure', 'Drama', 'Sci-Fi']</td>\n",
       "      <td>['English', 'Japanese', 'Xhosa', 'German']</td>\n",
       "      <td>['United States']</td>\n",
       "      <td>2019-04-26</td>\n",
       "      <td>181</td>\n",
       "      <td>2797501328</td>\n",
       "      <td>8.4</td>\n",
       "      <td>['PG-13']</td>\n",
       "      <td>2019</td>\n",
       "      <td>4</td>\n",
       "      <td>26</td>\n",
       "    </tr>\n",
       "  </tbody>\n",
       "</table>\n",
       "</div>"
      ],
      "text/plain": [
       "               Title  Theater counts  Opening Weekend     Budget  \\\n",
       "0             Avatar            3452         77025481  237000000   \n",
       "1  Avengers: Endgame            4662        357115007  356000000   \n",
       "\n",
       "                                                Cast  \\\n",
       "0  ['Sam Worthington', 'Zoe Saldana', 'Sigourney ...   \n",
       "1  ['Robert Downey Jr.', 'Chris Evans', 'Mark Ruf...   \n",
       "\n",
       "                                              Crew  \\\n",
       "0                                ['James Cameron']   \n",
       "1  ['Stan Lee', 'Joe Russo', 'Christopher Markus']   \n",
       "\n",
       "                                             Studios  \\\n",
       "0  ['Twentieth Century Fox', 'Dune Entertainment'...   \n",
       "1         ['Marvel Studios', 'Walt Disney Pictures']   \n",
       "\n",
       "                                          Genre  \\\n",
       "0  ['Action', 'Adventure', 'Fantasy', 'Sci-Fi']   \n",
       "1    ['Action', 'Adventure', 'Drama', 'Sci-Fi']   \n",
       "\n",
       "                                    Languages          Countries Release_Data  \\\n",
       "0                      ['English', 'Spanish']  ['United States']   2009-12-18   \n",
       "1  ['English', 'Japanese', 'Xhosa', 'German']  ['United States']   2019-04-26   \n",
       "\n",
       "   Runtime  Gross_worldwide  Rating ListOfCertificate  Release_Year  \\\n",
       "0      162       2847246203     7.8         ['PG-13']          2009   \n",
       "1      181       2797501328     8.4         ['PG-13']          2019   \n",
       "\n",
       "   Release_Month  Release_Day  \n",
       "0             12           18  \n",
       "1              4           26  "
      ]
     },
     "execution_count": 4,
     "metadata": {},
     "output_type": "execute_result"
    }
   ],
   "source": [
    "df = pd.read_csv('cleaning_data.csv')\n",
    "df.drop('No', axis=1, inplace=True)\n",
    "df.head(2)"
   ]
  },
  {
   "cell_type": "code",
   "execution_count": 15,
   "metadata": {},
   "outputs": [
    {
     "data": {
      "text/plain": [
       "(3550, 18)"
      ]
     },
     "execution_count": 15,
     "metadata": {},
     "output_type": "execute_result"
    }
   ],
   "source": [
    "df.shape"
   ]
  }
 ],
 "metadata": {
  "kernelspec": {
   "display_name": ".venv",
   "language": "python",
   "name": "python3"
  },
  "language_info": {
   "codemirror_mode": {
    "name": "ipython",
    "version": 3
   },
   "file_extension": ".py",
   "mimetype": "text/x-python",
   "name": "python",
   "nbconvert_exporter": "python",
   "pygments_lexer": "ipython3",
   "version": "3.11.3"
  }
 },
 "nbformat": 4,
 "nbformat_minor": 2
}
